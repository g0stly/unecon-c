{
 "cells": [
  {
   "cell_type": "code",
   "execution_count": 1,
   "metadata": {},
   "outputs": [],
   "source": [
    "%load_ext cython"
   ]
  },
  {
   "cell_type": "code",
   "execution_count": 14,
   "metadata": {},
   "outputs": [],
   "source": [
    "n = 9\n",
    "k = 4\n",
    "def stirling(n,k):\n",
    "    if n == 0 and k == 0:\n",
    "        return 1\n",
    "    elif k == 0:\n",
    "        return 0\n",
    "    elif k>n:\n",
    "        return 0\n",
    "    else:\n",
    "        return stirling(n-1,k-1)+k*stirling(n-1,k)"
   ]
  },
  {
   "cell_type": "code",
   "execution_count": 15,
   "metadata": {},
   "outputs": [
    {
     "name": "stdout",
     "output_type": "stream",
     "text": [
      "709 µs ± 112 µs per loop (mean ± std. dev. of 7 runs, 1000 loops each)\n"
     ]
    }
   ],
   "source": [
    "%timeit stirling(n, k)"
   ]
  },
  {
   "cell_type": "code",
   "execution_count": 20,
   "metadata": {},
   "outputs": [],
   "source": [
    "%%cython\n",
    "n = 9\n",
    "k = 4\n",
    "def stirling1(n,k):\n",
    "    if n == 0 and k == 0:\n",
    "        return 1\n",
    "    elif k == 0:\n",
    "        return 0\n",
    "    elif k>n:\n",
    "        return 0\n",
    "    else:\n",
    "        return stirling1(n-1,k-1)+k*stirling1(n-1,k)"
   ]
  },
  {
   "cell_type": "code",
   "execution_count": 21,
   "metadata": {},
   "outputs": [
    {
     "name": "stdout",
     "output_type": "stream",
     "text": [
      "275 µs ± 32.3 µs per loop (mean ± std. dev. of 7 runs, 10000 loops each)\n"
     ]
    }
   ],
   "source": [
    "%timeit stirling1(n, k)"
   ]
  },
  {
   "cell_type": "code",
   "execution_count": 22,
   "metadata": {},
   "outputs": [],
   "source": [
    "%%cython\n",
    "cdef int n = 9\n",
    "cdef int k = 4\n",
    "def stirling2(int n, int k):\n",
    "    if n == 0 and k == 0:\n",
    "        return 1\n",
    "    elif k == 0:\n",
    "        return 0\n",
    "    elif k>n:\n",
    "        return 0\n",
    "    else:\n",
    "        return stirling2(n-1,k-1)+k*stirling2(n-1,k)"
   ]
  },
  {
   "cell_type": "code",
   "execution_count": 23,
   "metadata": {},
   "outputs": [
    {
     "name": "stdout",
     "output_type": "stream",
     "text": [
      "240 µs ± 23.2 µs per loop (mean ± std. dev. of 7 runs, 10000 loops each)\n"
     ]
    }
   ],
   "source": [
    "%timeit stirling2(n, k)"
   ]
  },
  {
   "cell_type": "code",
   "execution_count": null,
   "metadata": {},
   "outputs": [],
   "source": []
  }
 ],
 "metadata": {
  "kernelspec": {
   "display_name": "Python 3",
   "language": "python",
   "name": "python3"
  },
  "language_info": {
   "codemirror_mode": {
    "name": "ipython",
    "version": 3
   },
   "file_extension": ".py",
   "mimetype": "text/x-python",
   "name": "python",
   "nbconvert_exporter": "python",
   "pygments_lexer": "ipython3",
   "version": "3.7.4"
  }
 },
 "nbformat": 4,
 "nbformat_minor": 2
}
